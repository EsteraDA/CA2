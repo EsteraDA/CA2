{
 "cells": [
  {
   "cell_type": "markdown",
   "id": "19d69ab0",
   "metadata": {},
   "source": [
    "# ML & Web scraping\n",
    "\n",
    "### Data set used for ML part was created during Web Scrapping process.<br>\n",
    "### For ML PART: code is as a MARKDOWN to keep data and results as they are shown in the report. Please load attached file created as a result of web scrapping.\n",
    "### For Programming: please remove mardown and use web scrapping code."
   ]
  },
  {
   "cell_type": "code",
   "execution_count": 1,
   "id": "d1daddee",
   "metadata": {},
   "outputs": [],
   "source": [
    "# loading libraries\n",
    "import requests\n",
    "from bs4 import BeautifulSoup \n",
    "import pandas as pd\n",
    "import re\n",
    "import seaborn as sns\n",
    "from sklearn.model_selection import train_test_split, GridSearchCV"
   ]
  },
  {
   "cell_type": "markdown",
   "id": "ebca3552",
   "metadata": {},
   "source": [
    "# getting a User-Agent from https://httpbin.org/get\n",
    "headers = { \"User-Agent\": \"Mozilla/5.0 (Windows NT 10.0; Win64; x64) AppleWebKit/537.36 (KHTML, like Gecko) Chrome/105.0.0.0 Safari/537.36 Edg/105.0.1343.27\", \"Accept-Encoding\":\"gzip, deflate\", \"Accept\":\"text/html,application/xhtml+xml,application/xml;q=0.9,*/*;q=0.8\", \"DNT\":\"1\",\"Connection\":\"close\", \"Upgrade-Insecure-Requests\":\"1\"}\n"
   ]
  },
  {
   "cell_type": "markdown",
   "id": "4b39bf47",
   "metadata": {},
   "source": [
    "baseurl = 'https://www.property.ie/property-for-sale/dublin/price_0-950000/'"
   ]
  },
  {
   "cell_type": "code",
   "execution_count": null,
   "id": "f1d7005f",
   "metadata": {},
   "outputs": [],
   "source": [
    "productlinks = []\n",
    "for x in range(1,120):\n",
    "    r = requests.get(f'https://www.property.ie/property-for-sale/dublin/price_0-950000/p_{x}/')\n",
    "    soup = BeautifulSoup(r.content, 'html.parser')\n",
    "    productlist = soup.find_all('div', class_='search_result')\n",
    "\n",
    "    for item in productlist:\n",
    "        link = item.find('a', href=True)\n",
    "        if link:\n",
    "            productlinks.append(link['href'])\n",
    "\n",
    "print(productlinks)"
   ]
  },
  {
   "cell_type": "markdown",
   "id": "04918d75",
   "metadata": {},
   "source": [
    "House = []\n",
    "for link in productlinks:\n",
    "    r = requests.get(link, headers=headers)\n",
    "    soup = BeautifulSoup(r.content, 'lxml')\n",
    "    \n",
    "# address\n",
    "    address = soup.find('h1', style = 'clear: left').text.strip()\n",
    "    \n",
    "    \n",
    "# pulling the data\n",
    "    na = soup.find(\"div\", id=\"searchmoreinfo_summary\")\n",
    "    name = na.get_text(strip=True)\n",
    "    \n",
    "    \n",
    "# extract price\n",
    "    price_match = re.search(r'€([\\d,]+)',name)\n",
    "    if price_match:\n",
    "        price = price_match.group(1)\n",
    "    else:\n",
    "        price = None\n",
    "\n",
    "# pulling the number of bedrooms and bathrooms\n",
    "    bedrooms_match = re.search(r'(\\d+) Bedrooms', name)\n",
    "    if bedrooms_match:\n",
    "        bedrooms = bedrooms_match.group(1)\n",
    "    else:\n",
    "        bedrooms = None\n",
    "\n",
    "    bathrooms_match = re.search(r'(\\d+) Bathrooms', name)\n",
    "    if bathrooms_match:\n",
    "        bathrooms = bathrooms_match.group(1)\n",
    "    else:\n",
    "        bathrooms = None\n",
    "\n",
    "# extracting house type\n",
    "    house_type_match = re.search(r'(\\w+ House)', name)\n",
    "    if house_type_match:\n",
    "        house_type = str(house_type_match.group(1))\n",
    "    else:\n",
    "        house_type = None\n",
    "        \n",
    "    \n",
    "    if house_type is not None:\n",
    "        house_type.startswith('000')\n",
    "        house_type = house_type.lstrip('0')\n",
    "    else:\n",
    "        house_type = None\n",
    "\n",
    "\n",
    "# creating a dictionary with the extracted information\n",
    "    info = {'Address':address,\n",
    "        'Price': price,\n",
    "        'Bedrooms': bedrooms,\n",
    "        'Bathrooms': bathrooms,\n",
    "        'House Type': house_type\n",
    "}\n",
    "    House.append(info)\n",
    "    print(info)"
   ]
  },
  {
   "cell_type": "markdown",
   "id": "e51b45da",
   "metadata": {},
   "source": [
    "# saving data as dataFrame\n",
    "df_Dublin = pd.DataFrame(House)"
   ]
  },
  {
   "cell_type": "code",
   "execution_count": null,
   "id": "386ce5f8",
   "metadata": {},
   "outputs": [],
   "source": [
    "# saving file into and excel file\n",
    "# df_Dublin.to_excel('C:\\\\ESTERA\\\\CA2\\\\data sets - IRL\\\\Dublin_Houses.xlsx', index=False)"
   ]
  },
  {
   "cell_type": "code",
   "execution_count": 56,
   "id": "44287bab",
   "metadata": {},
   "outputs": [
    {
     "data": {
      "text/html": [
       "<div>\n",
       "<style scoped>\n",
       "    .dataframe tbody tr th:only-of-type {\n",
       "        vertical-align: middle;\n",
       "    }\n",
       "\n",
       "    .dataframe tbody tr th {\n",
       "        vertical-align: top;\n",
       "    }\n",
       "\n",
       "    .dataframe thead th {\n",
       "        text-align: right;\n",
       "    }\n",
       "</style>\n",
       "<table border=\"1\" class=\"dataframe\">\n",
       "  <thead>\n",
       "    <tr style=\"text-align: right;\">\n",
       "      <th></th>\n",
       "      <th>Address</th>\n",
       "      <th>Price</th>\n",
       "      <th>Bedrooms</th>\n",
       "      <th>Bathrooms</th>\n",
       "      <th>House Type</th>\n",
       "    </tr>\n",
       "  </thead>\n",
       "  <tbody>\n",
       "    <tr>\n",
       "      <th>0</th>\n",
       "      <td>67 Park Drive Avenue, Castleknock, Castleknock...</td>\n",
       "      <td>550,000</td>\n",
       "      <td>3.0</td>\n",
       "      <td>2.0</td>\n",
       "      <td>Terraced House</td>\n",
       "    </tr>\n",
       "    <tr>\n",
       "      <th>1</th>\n",
       "      <td>109 Clonliffe Avenue, Dublin 3</td>\n",
       "      <td>310,000</td>\n",
       "      <td>2.0</td>\n",
       "      <td>NaN</td>\n",
       "      <td>Terraced House</td>\n",
       "    </tr>\n",
       "    <tr>\n",
       "      <th>2</th>\n",
       "      <td>2a Ballykea Close, Ballykea, Skerries, Co. Dublin</td>\n",
       "      <td>775,000</td>\n",
       "      <td>4.0</td>\n",
       "      <td>3.0</td>\n",
       "      <td>Detached House</td>\n",
       "    </tr>\n",
       "    <tr>\n",
       "      <th>3</th>\n",
       "      <td>77 Kill Avenue, Dun Laoghaire, Co. Dublin</td>\n",
       "      <td>795,000</td>\n",
       "      <td>4.0</td>\n",
       "      <td>5.0</td>\n",
       "      <td>Detached House</td>\n",
       "    </tr>\n",
       "    <tr>\n",
       "      <th>4</th>\n",
       "      <td>13a Hilltown Lawn, Swords, Co. Dublin</td>\n",
       "      <td>449,000</td>\n",
       "      <td>3.0</td>\n",
       "      <td>3.0</td>\n",
       "      <td>Detached House</td>\n",
       "    </tr>\n",
       "  </tbody>\n",
       "</table>\n",
       "</div>"
      ],
      "text/plain": [
       "                                             Address    Price  Bedrooms  \\\n",
       "0  67 Park Drive Avenue, Castleknock, Castleknock...  550,000       3.0   \n",
       "1                     109 Clonliffe Avenue, Dublin 3  310,000       2.0   \n",
       "2  2a Ballykea Close, Ballykea, Skerries, Co. Dublin  775,000       4.0   \n",
       "3          77 Kill Avenue, Dun Laoghaire, Co. Dublin  795,000       4.0   \n",
       "4              13a Hilltown Lawn, Swords, Co. Dublin  449,000       3.0   \n",
       "\n",
       "   Bathrooms      House Type  \n",
       "0        2.0  Terraced House  \n",
       "1        NaN  Terraced House  \n",
       "2        3.0  Detached House  \n",
       "3        5.0  Detached House  \n",
       "4        3.0  Detached House  "
      ]
     },
     "execution_count": 56,
     "metadata": {},
     "output_type": "execute_result"
    }
   ],
   "source": [
    "# loading data set\n",
    "df_Dublin = pd.read_excel('C:\\\\ESTERA\\\\CA2\\\\data sets - IRL\\\\Dublin_Houses.xlsx')\n",
    "\n",
    "df_Dublin.head()"
   ]
  },
  {
   "cell_type": "code",
   "execution_count": 57,
   "id": "9f7f85d3",
   "metadata": {},
   "outputs": [
    {
     "name": "stdout",
     "output_type": "stream",
     "text": [
      "<class 'pandas.core.frame.DataFrame'>\n",
      "RangeIndex: 1101 entries, 0 to 1100\n",
      "Data columns (total 5 columns):\n",
      " #   Column      Non-Null Count  Dtype  \n",
      "---  ------      --------------  -----  \n",
      " 0   Address     1101 non-null   object \n",
      " 1   Price       1101 non-null   object \n",
      " 2   Bedrooms    975 non-null    float64\n",
      " 3   Bathrooms   619 non-null    float64\n",
      " 4   House Type  693 non-null    object \n",
      "dtypes: float64(2), object(3)\n",
      "memory usage: 43.1+ KB\n"
     ]
    }
   ],
   "source": [
    "df_Dublin.info()"
   ]
  },
  {
   "cell_type": "code",
   "execution_count": 58,
   "id": "0a2654d4",
   "metadata": {},
   "outputs": [
    {
     "data": {
      "text/html": [
       "<div>\n",
       "<style scoped>\n",
       "    .dataframe tbody tr th:only-of-type {\n",
       "        vertical-align: middle;\n",
       "    }\n",
       "\n",
       "    .dataframe tbody tr th {\n",
       "        vertical-align: top;\n",
       "    }\n",
       "\n",
       "    .dataframe thead th {\n",
       "        text-align: right;\n",
       "    }\n",
       "</style>\n",
       "<table border=\"1\" class=\"dataframe\">\n",
       "  <thead>\n",
       "    <tr style=\"text-align: right;\">\n",
       "      <th></th>\n",
       "      <th>Address</th>\n",
       "      <th>Price</th>\n",
       "      <th>Bedrooms</th>\n",
       "      <th>Bathrooms</th>\n",
       "      <th>House Type</th>\n",
       "      <th>District</th>\n",
       "      <th>Area</th>\n",
       "      <th>Street</th>\n",
       "    </tr>\n",
       "  </thead>\n",
       "  <tbody>\n",
       "    <tr>\n",
       "      <th>0</th>\n",
       "      <td>67 Park Drive Avenue, Castleknock, Castleknock...</td>\n",
       "      <td>550,000</td>\n",
       "      <td>3.0</td>\n",
       "      <td>2.0</td>\n",
       "      <td>Terraced House</td>\n",
       "      <td>Dublin 15</td>\n",
       "      <td>Castleknock</td>\n",
       "      <td>67 Park Drive Avenue, Castleknock</td>\n",
       "    </tr>\n",
       "    <tr>\n",
       "      <th>1</th>\n",
       "      <td>109 Clonliffe Avenue, Dublin 3</td>\n",
       "      <td>310,000</td>\n",
       "      <td>2.0</td>\n",
       "      <td>NaN</td>\n",
       "      <td>Terraced House</td>\n",
       "      <td>None</td>\n",
       "      <td>Dublin 3</td>\n",
       "      <td>109 Clonliffe Avenue</td>\n",
       "    </tr>\n",
       "    <tr>\n",
       "      <th>2</th>\n",
       "      <td>2a Ballykea Close, Ballykea, Skerries, Co. Dublin</td>\n",
       "      <td>775,000</td>\n",
       "      <td>4.0</td>\n",
       "      <td>3.0</td>\n",
       "      <td>Detached House</td>\n",
       "      <td>Co. Dublin</td>\n",
       "      <td>Skerries</td>\n",
       "      <td>2a Ballykea Close, Ballykea</td>\n",
       "    </tr>\n",
       "    <tr>\n",
       "      <th>3</th>\n",
       "      <td>77 Kill Avenue, Dun Laoghaire, Co. Dublin</td>\n",
       "      <td>795,000</td>\n",
       "      <td>4.0</td>\n",
       "      <td>5.0</td>\n",
       "      <td>Detached House</td>\n",
       "      <td>Co. Dublin</td>\n",
       "      <td>Dun Laoghaire</td>\n",
       "      <td>77 Kill Avenue</td>\n",
       "    </tr>\n",
       "    <tr>\n",
       "      <th>4</th>\n",
       "      <td>13a Hilltown Lawn, Swords, Co. Dublin</td>\n",
       "      <td>449,000</td>\n",
       "      <td>3.0</td>\n",
       "      <td>3.0</td>\n",
       "      <td>Detached House</td>\n",
       "      <td>Co. Dublin</td>\n",
       "      <td>Swords</td>\n",
       "      <td>13a Hilltown Lawn</td>\n",
       "    </tr>\n",
       "  </tbody>\n",
       "</table>\n",
       "</div>"
      ],
      "text/plain": [
       "                                             Address    Price  Bedrooms  \\\n",
       "0  67 Park Drive Avenue, Castleknock, Castleknock...  550,000       3.0   \n",
       "1                     109 Clonliffe Avenue, Dublin 3  310,000       2.0   \n",
       "2  2a Ballykea Close, Ballykea, Skerries, Co. Dublin  775,000       4.0   \n",
       "3          77 Kill Avenue, Dun Laoghaire, Co. Dublin  795,000       4.0   \n",
       "4              13a Hilltown Lawn, Swords, Co. Dublin  449,000       3.0   \n",
       "\n",
       "   Bathrooms      House Type    District           Area  \\\n",
       "0        2.0  Terraced House   Dublin 15    Castleknock   \n",
       "1        NaN  Terraced House        None       Dublin 3   \n",
       "2        3.0  Detached House  Co. Dublin       Skerries   \n",
       "3        5.0  Detached House  Co. Dublin  Dun Laoghaire   \n",
       "4        3.0  Detached House  Co. Dublin         Swords   \n",
       "\n",
       "                              Street  \n",
       "0  67 Park Drive Avenue, Castleknock  \n",
       "1               109 Clonliffe Avenue  \n",
       "2        2a Ballykea Close, Ballykea  \n",
       "3                     77 Kill Avenue  \n",
       "4                  13a Hilltown Lawn  "
      ]
     },
     "execution_count": 58,
     "metadata": {},
     "output_type": "execute_result"
    }
   ],
   "source": [
    "# splitting the address data \n",
    "split_address = df_Dublin['Address'].str.rsplit(', ', n=2, expand=True)\n",
    "df_Dublin[['District', 'Area', 'Street']] = split_address.iloc[:, ::-1]\n",
    "df_Dublin.head()"
   ]
  },
  {
   "cell_type": "code",
   "execution_count": 59,
   "id": "54158071",
   "metadata": {},
   "outputs": [
    {
     "name": "stderr",
     "output_type": "stream",
     "text": [
      "C:\\Users\\ester\\AppData\\Local\\Temp\\ipykernel_3056\\2206455085.py:3: FutureWarning: The default value of regex will change from True to False in a future version.\n",
      "  df_Dublin['Area'] = df_Dublin['Area'].str.replace(r'\\bDublin\\b', '')\n"
     ]
    },
    {
     "data": {
      "text/html": [
       "<div>\n",
       "<style scoped>\n",
       "    .dataframe tbody tr th:only-of-type {\n",
       "        vertical-align: middle;\n",
       "    }\n",
       "\n",
       "    .dataframe tbody tr th {\n",
       "        vertical-align: top;\n",
       "    }\n",
       "\n",
       "    .dataframe thead th {\n",
       "        text-align: right;\n",
       "    }\n",
       "</style>\n",
       "<table border=\"1\" class=\"dataframe\">\n",
       "  <thead>\n",
       "    <tr style=\"text-align: right;\">\n",
       "      <th></th>\n",
       "      <th>Address</th>\n",
       "      <th>Price</th>\n",
       "      <th>Bedrooms</th>\n",
       "      <th>Bathrooms</th>\n",
       "      <th>House Type</th>\n",
       "      <th>District</th>\n",
       "      <th>Area</th>\n",
       "      <th>Street</th>\n",
       "    </tr>\n",
       "  </thead>\n",
       "  <tbody>\n",
       "    <tr>\n",
       "      <th>0</th>\n",
       "      <td>67 Park Drive Avenue, Castleknock, Castleknock...</td>\n",
       "      <td>550,000</td>\n",
       "      <td>3.0</td>\n",
       "      <td>2.0</td>\n",
       "      <td>Terraced House</td>\n",
       "      <td>Dublin 15</td>\n",
       "      <td>Castleknock</td>\n",
       "      <td>67 Park Drive Avenue, Castleknock</td>\n",
       "    </tr>\n",
       "    <tr>\n",
       "      <th>1</th>\n",
       "      <td>109 Clonliffe Avenue, Dublin 3</td>\n",
       "      <td>310,000</td>\n",
       "      <td>2.0</td>\n",
       "      <td>NaN</td>\n",
       "      <td>Terraced House</td>\n",
       "      <td>Dublin 3</td>\n",
       "      <td>3</td>\n",
       "      <td>109 Clonliffe Avenue</td>\n",
       "    </tr>\n",
       "    <tr>\n",
       "      <th>2</th>\n",
       "      <td>2a Ballykea Close, Ballykea, Skerries, Co. Dublin</td>\n",
       "      <td>775,000</td>\n",
       "      <td>4.0</td>\n",
       "      <td>3.0</td>\n",
       "      <td>Detached House</td>\n",
       "      <td>Co. Dublin</td>\n",
       "      <td>Skerries</td>\n",
       "      <td>2a Ballykea Close, Ballykea</td>\n",
       "    </tr>\n",
       "    <tr>\n",
       "      <th>3</th>\n",
       "      <td>77 Kill Avenue, Dun Laoghaire, Co. Dublin</td>\n",
       "      <td>795,000</td>\n",
       "      <td>4.0</td>\n",
       "      <td>5.0</td>\n",
       "      <td>Detached House</td>\n",
       "      <td>Co. Dublin</td>\n",
       "      <td>Dun Laoghaire</td>\n",
       "      <td>77 Kill Avenue</td>\n",
       "    </tr>\n",
       "    <tr>\n",
       "      <th>4</th>\n",
       "      <td>13a Hilltown Lawn, Swords, Co. Dublin</td>\n",
       "      <td>449,000</td>\n",
       "      <td>3.0</td>\n",
       "      <td>3.0</td>\n",
       "      <td>Detached House</td>\n",
       "      <td>Co. Dublin</td>\n",
       "      <td>Swords</td>\n",
       "      <td>13a Hilltown Lawn</td>\n",
       "    </tr>\n",
       "  </tbody>\n",
       "</table>\n",
       "</div>"
      ],
      "text/plain": [
       "                                             Address    Price  Bedrooms  \\\n",
       "0  67 Park Drive Avenue, Castleknock, Castleknock...  550,000       3.0   \n",
       "1                     109 Clonliffe Avenue, Dublin 3  310,000       2.0   \n",
       "2  2a Ballykea Close, Ballykea, Skerries, Co. Dublin  775,000       4.0   \n",
       "3          77 Kill Avenue, Dun Laoghaire, Co. Dublin  795,000       4.0   \n",
       "4              13a Hilltown Lawn, Swords, Co. Dublin  449,000       3.0   \n",
       "\n",
       "   Bathrooms      House Type    District           Area  \\\n",
       "0        2.0  Terraced House   Dublin 15    Castleknock   \n",
       "1        NaN  Terraced House    Dublin 3              3   \n",
       "2        3.0  Detached House  Co. Dublin       Skerries   \n",
       "3        5.0  Detached House  Co. Dublin  Dun Laoghaire   \n",
       "4        3.0  Detached House  Co. Dublin         Swords   \n",
       "\n",
       "                              Street  \n",
       "0  67 Park Drive Avenue, Castleknock  \n",
       "1               109 Clonliffe Avenue  \n",
       "2        2a Ballykea Close, Ballykea  \n",
       "3                     77 Kill Avenue  \n",
       "4                  13a Hilltown Lawn  "
      ]
     },
     "execution_count": 59,
     "metadata": {},
     "output_type": "execute_result"
    }
   ],
   "source": [
    "# moving all values from Area column to District column if there is word 'Dublin' in it\n",
    "df_Dublin.loc[df_Dublin['Area'].str.contains(r'\\bDublin\\b', na=False), 'District'] = df_Dublin['Area']\n",
    "df_Dublin['Area'] = df_Dublin['Area'].str.replace(r'\\bDublin\\b', '')\n",
    "df_Dublin.head()"
   ]
  },
  {
   "cell_type": "code",
   "execution_count": 60,
   "id": "e25d0df3",
   "metadata": {},
   "outputs": [],
   "source": [
    "# dropping all none values\n",
    "df_Dublin = df_Dublin.dropna()"
   ]
  },
  {
   "cell_type": "code",
   "execution_count": 61,
   "id": "880502fa",
   "metadata": {},
   "outputs": [],
   "source": [
    "# dropping unnecessary columns\n",
    "df_Dublin.drop(columns=['Address', 'Area', 'Street'], inplace=True)"
   ]
  },
  {
   "cell_type": "code",
   "execution_count": 62,
   "id": "22b49caa",
   "metadata": {},
   "outputs": [],
   "source": [
    "# removing \",\" sign\n",
    "df_Dublin['Price'] = df_Dublin['Price'].str.replace(',', '')"
   ]
  },
  {
   "cell_type": "code",
   "execution_count": 63,
   "id": "46262853",
   "metadata": {},
   "outputs": [
    {
     "name": "stdout",
     "output_type": "stream",
     "text": [
      "<class 'pandas.core.frame.DataFrame'>\n",
      "Int64Index: 430 entries, 0 to 1099\n",
      "Data columns (total 5 columns):\n",
      " #   Column      Non-Null Count  Dtype  \n",
      "---  ------      --------------  -----  \n",
      " 0   Price       430 non-null    object \n",
      " 1   Bedrooms    430 non-null    float64\n",
      " 2   Bathrooms   430 non-null    float64\n",
      " 3   House Type  430 non-null    object \n",
      " 4   District    430 non-null    object \n",
      "dtypes: float64(2), object(3)\n",
      "memory usage: 20.2+ KB\n"
     ]
    }
   ],
   "source": [
    "# checking column types\n",
    "df_Dublin.info()"
   ]
  },
  {
   "cell_type": "code",
   "execution_count": 64,
   "id": "b2f5e207",
   "metadata": {},
   "outputs": [],
   "source": [
    "# converting object columns to int\n",
    "columns_to_convert = ['Price', 'Bedrooms', 'Bathrooms']\n",
    "df_Dublin.loc[:, columns_to_convert] = df_Dublin.loc[:, columns_to_convert].astype(int)"
   ]
  },
  {
   "cell_type": "code",
   "execution_count": 65,
   "id": "f56f0d34",
   "metadata": {},
   "outputs": [
    {
     "data": {
      "text/plain": [
       "array(['Terraced House', 'Detached House', 'Terrace House',\n",
       "       '950Terraced House', '950Detached House'], dtype=object)"
      ]
     },
     "execution_count": 65,
     "metadata": {},
     "output_type": "execute_result"
    }
   ],
   "source": [
    "# checking how many unique types of house\n",
    "df_Dublin['House Type'].unique()"
   ]
  },
  {
   "cell_type": "code",
   "execution_count": 66,
   "id": "e02de155",
   "metadata": {},
   "outputs": [
    {
     "data": {
      "text/plain": [
       "array(['Terrace House', 'Detached House'], dtype=object)"
      ]
     },
     "execution_count": 66,
     "metadata": {},
     "output_type": "execute_result"
    }
   ],
   "source": [
    "# correcting errors withing 'House Type' column\n",
    "Terraced = ['Terraced House','950Terraced House']\n",
    "df_Dublin['House Type'] = df_Dublin['House Type'].replace(Terraced, 'Terrace House')\n",
    "df_Dublin['House Type'] = df_Dublin['House Type'].replace('950Detached House', 'Detached House')\n",
    "df_Dublin['House Type'].unique()"
   ]
  },
  {
   "cell_type": "code",
   "execution_count": 67,
   "id": "7334cadf",
   "metadata": {},
   "outputs": [
    {
     "data": {
      "image/png": "[encoded data removed]",
      "text/plain": [
       "<Figure size 700x100 with 1 Axes>"
      ]
     },
     "metadata": {},
     "output_type": "display_data"
    },
    {
     "data": {
      "image/png": "[encoded data removed]",
      "text/plain": [
       "<Figure size 700x100 with 1 Axes>"
      ]
     },
     "metadata": {},
     "output_type": "display_data"
    },
    {
     "data": {
      "image/png": "[encoded data removed]",
      "text/plain": [
       "<Figure size 700x100 with 1 Axes>"
      ]
     },
     "metadata": {},
     "output_type": "display_data"
    }
   ],
   "source": [
    "# creating boxplots to visualise data\n",
    "\n",
    "import matplotlib.pyplot as plt\n",
    "\n",
    "# selecting only non-object columns\n",
    "numeric_columns = df_Dublin.select_dtypes(exclude='object').columns\n",
    "\n",
    "\n",
    "for column in df_Dublin[numeric_columns]:\n",
    "        plt.figure(figsize=(7,1))\n",
    "        sns.boxplot(data=df_Dublin[numeric_columns], x=column)\n",
    "       # plt.show()"
   ]
  },
  {
   "cell_type": "code",
   "execution_count": 68,
   "id": "8fd8df2d",
   "metadata": {},
   "outputs": [
    {
     "data": {
      "image/png": "[encoded data removed]",
      "text/plain": [
       "<Figure size 2000x1500 with 4 Axes>"
      ]
     },
     "metadata": {},
     "output_type": "display_data"
    }
   ],
   "source": [
    "# creating a histograms\n",
    "df_Dublin.hist(bins=50, figsize=(20,15))\n",
    "plt.show()"
   ]
  },
  {
   "cell_type": "markdown",
   "id": "4d595ba1",
   "metadata": {},
   "source": [
    "## 2. Binary Classification"
   ]
  },
  {
   "cell_type": "code",
   "execution_count": 69,
   "id": "54ca775e",
   "metadata": {},
   "outputs": [
    {
     "data": {
      "text/html": [
       "<div>\n",
       "<style scoped>\n",
       "    .dataframe tbody tr th:only-of-type {\n",
       "        vertical-align: middle;\n",
       "    }\n",
       "\n",
       "    .dataframe tbody tr th {\n",
       "        vertical-align: top;\n",
       "    }\n",
       "\n",
       "    .dataframe thead th {\n",
       "        text-align: right;\n",
       "    }\n",
       "</style>\n",
       "<table border=\"1\" class=\"dataframe\">\n",
       "  <thead>\n",
       "    <tr style=\"text-align: right;\">\n",
       "      <th></th>\n",
       "      <th>Price</th>\n",
       "      <th>Bedrooms</th>\n",
       "      <th>Bathrooms</th>\n",
       "      <th>District</th>\n",
       "      <th>House Type_Detached House</th>\n",
       "      <th>House Type_Terrace House</th>\n",
       "    </tr>\n",
       "  </thead>\n",
       "  <tbody>\n",
       "    <tr>\n",
       "      <th>0</th>\n",
       "      <td>550000</td>\n",
       "      <td>3</td>\n",
       "      <td>2</td>\n",
       "      <td>Dublin 15</td>\n",
       "      <td>0</td>\n",
       "      <td>1</td>\n",
       "    </tr>\n",
       "    <tr>\n",
       "      <th>2</th>\n",
       "      <td>775000</td>\n",
       "      <td>4</td>\n",
       "      <td>3</td>\n",
       "      <td>Co. Dublin</td>\n",
       "      <td>1</td>\n",
       "      <td>0</td>\n",
       "    </tr>\n",
       "    <tr>\n",
       "      <th>3</th>\n",
       "      <td>795000</td>\n",
       "      <td>4</td>\n",
       "      <td>5</td>\n",
       "      <td>Co. Dublin</td>\n",
       "      <td>1</td>\n",
       "      <td>0</td>\n",
       "    </tr>\n",
       "    <tr>\n",
       "      <th>4</th>\n",
       "      <td>449000</td>\n",
       "      <td>3</td>\n",
       "      <td>3</td>\n",
       "      <td>Co. Dublin</td>\n",
       "      <td>1</td>\n",
       "      <td>0</td>\n",
       "    </tr>\n",
       "    <tr>\n",
       "      <th>5</th>\n",
       "      <td>545000</td>\n",
       "      <td>4</td>\n",
       "      <td>2</td>\n",
       "      <td>Co. Dublin</td>\n",
       "      <td>1</td>\n",
       "      <td>0</td>\n",
       "    </tr>\n",
       "  </tbody>\n",
       "</table>\n",
       "</div>"
      ],
      "text/plain": [
       "    Price  Bedrooms  Bathrooms    District  House Type_Detached House  \\\n",
       "0  550000         3          2   Dublin 15                          0   \n",
       "2  775000         4          3  Co. Dublin                          1   \n",
       "3  795000         4          5  Co. Dublin                          1   \n",
       "4  449000         3          3  Co. Dublin                          1   \n",
       "5  545000         4          2  Co. Dublin                          1   \n",
       "\n",
       "   House Type_Terrace House  \n",
       "0                         1  \n",
       "2                         0  \n",
       "3                         0  \n",
       "4                         0  \n",
       "5                         0  "
      ]
     },
     "execution_count": 69,
     "metadata": {},
     "output_type": "execute_result"
    }
   ],
   "source": [
    "# getting dummies for 'House Type' column\n",
    "df_Dublin = pd.get_dummies(df_Dublin, columns=['House Type'])\n",
    "df_Dublin.head()"
   ]
  },
  {
   "cell_type": "code",
   "execution_count": 70,
   "id": "bd53360e",
   "metadata": {},
   "outputs": [
    {
     "data": {
      "text/html": [
       "<div>\n",
       "<style scoped>\n",
       "    .dataframe tbody tr th:only-of-type {\n",
       "        vertical-align: middle;\n",
       "    }\n",
       "\n",
       "    .dataframe tbody tr th {\n",
       "        vertical-align: top;\n",
       "    }\n",
       "\n",
       "    .dataframe thead th {\n",
       "        text-align: right;\n",
       "    }\n",
       "</style>\n",
       "<table border=\"1\" class=\"dataframe\">\n",
       "  <thead>\n",
       "    <tr style=\"text-align: right;\">\n",
       "      <th></th>\n",
       "      <th>Price</th>\n",
       "      <th>Bedrooms</th>\n",
       "      <th>Bathrooms</th>\n",
       "      <th>District</th>\n",
       "      <th>House Type_Detached House</th>\n",
       "      <th>House Type_Terrace House</th>\n",
       "    </tr>\n",
       "  </thead>\n",
       "  <tbody>\n",
       "    <tr>\n",
       "      <th>0</th>\n",
       "      <td>550000</td>\n",
       "      <td>3</td>\n",
       "      <td>2</td>\n",
       "      <td>Dublin</td>\n",
       "      <td>0</td>\n",
       "      <td>1</td>\n",
       "    </tr>\n",
       "    <tr>\n",
       "      <th>2</th>\n",
       "      <td>775000</td>\n",
       "      <td>4</td>\n",
       "      <td>3</td>\n",
       "      <td>County</td>\n",
       "      <td>1</td>\n",
       "      <td>0</td>\n",
       "    </tr>\n",
       "    <tr>\n",
       "      <th>3</th>\n",
       "      <td>795000</td>\n",
       "      <td>4</td>\n",
       "      <td>5</td>\n",
       "      <td>County</td>\n",
       "      <td>1</td>\n",
       "      <td>0</td>\n",
       "    </tr>\n",
       "    <tr>\n",
       "      <th>4</th>\n",
       "      <td>449000</td>\n",
       "      <td>3</td>\n",
       "      <td>3</td>\n",
       "      <td>County</td>\n",
       "      <td>1</td>\n",
       "      <td>0</td>\n",
       "    </tr>\n",
       "    <tr>\n",
       "      <th>5</th>\n",
       "      <td>545000</td>\n",
       "      <td>4</td>\n",
       "      <td>2</td>\n",
       "      <td>County</td>\n",
       "      <td>1</td>\n",
       "      <td>0</td>\n",
       "    </tr>\n",
       "  </tbody>\n",
       "</table>\n",
       "</div>"
      ],
      "text/plain": [
       "    Price  Bedrooms  Bathrooms District  House Type_Detached House  \\\n",
       "0  550000         3          2   Dublin                          0   \n",
       "2  775000         4          3   County                          1   \n",
       "3  795000         4          5   County                          1   \n",
       "4  449000         3          3   County                          1   \n",
       "5  545000         4          2   County                          1   \n",
       "\n",
       "   House Type_Terrace House  \n",
       "0                         1  \n",
       "2                         0  \n",
       "3                         0  \n",
       "4                         0  \n",
       "5                         0  "
      ]
     },
     "execution_count": 70,
     "metadata": {},
     "output_type": "execute_result"
    }
   ],
   "source": [
    "# modifing 'District' column\n",
    "df_Dublin['District'] = df_Dublin['District'].apply(lambda x: 'County' if 'Co.' in x else 'Dublin' if 'Dublin' in x else x)\n",
    "df_Dublin.head()"
   ]
  },
  {
   "cell_type": "code",
   "execution_count": 71,
   "id": "0e7b8b2d",
   "metadata": {},
   "outputs": [
    {
     "data": {
      "text/plain": [
       "count       430.000000\n",
       "mean     564768.476744\n",
       "std      189067.267221\n",
       "min      230000.000000\n",
       "25%      400000.000000\n",
       "50%      549975.000000\n",
       "75%      711000.000000\n",
       "max      950000.000000\n",
       "Name: Price, dtype: float64"
      ]
     },
     "execution_count": 71,
     "metadata": {},
     "output_type": "execute_result"
    }
   ],
   "source": [
    "df_Dublin['Price'].describe()"
   ]
  },
  {
   "cell_type": "code",
   "execution_count": 72,
   "id": "26215601",
   "metadata": {},
   "outputs": [
    {
     "data": {
      "text/html": [
       "<div>\n",
       "<style scoped>\n",
       "    .dataframe tbody tr th:only-of-type {\n",
       "        vertical-align: middle;\n",
       "    }\n",
       "\n",
       "    .dataframe tbody tr th {\n",
       "        vertical-align: top;\n",
       "    }\n",
       "\n",
       "    .dataframe thead th {\n",
       "        text-align: right;\n",
       "    }\n",
       "</style>\n",
       "<table border=\"1\" class=\"dataframe\">\n",
       "  <thead>\n",
       "    <tr style=\"text-align: right;\">\n",
       "      <th></th>\n",
       "      <th>Price</th>\n",
       "      <th>Bedrooms</th>\n",
       "      <th>Bathrooms</th>\n",
       "      <th>District</th>\n",
       "      <th>House Type_Detached House</th>\n",
       "      <th>House Type_Terrace House</th>\n",
       "      <th>Price_Group_230000.0-374000.0</th>\n",
       "      <th>Price_Group_374000.0-518000.0</th>\n",
       "      <th>Price_Group_518000.0-662000.0</th>\n",
       "      <th>Price_Group_662000.0-806000.0</th>\n",
       "      <th>Price_Group_806000.0-950000.0</th>\n",
       "    </tr>\n",
       "  </thead>\n",
       "  <tbody>\n",
       "    <tr>\n",
       "      <th>0</th>\n",
       "      <td>550000</td>\n",
       "      <td>3</td>\n",
       "      <td>2</td>\n",
       "      <td>Dublin</td>\n",
       "      <td>0</td>\n",
       "      <td>1</td>\n",
       "      <td>0</td>\n",
       "      <td>0</td>\n",
       "      <td>1</td>\n",
       "      <td>0</td>\n",
       "      <td>0</td>\n",
       "    </tr>\n",
       "    <tr>\n",
       "      <th>2</th>\n",
       "      <td>775000</td>\n",
       "      <td>4</td>\n",
       "      <td>3</td>\n",
       "      <td>County</td>\n",
       "      <td>1</td>\n",
       "      <td>0</td>\n",
       "      <td>0</td>\n",
       "      <td>0</td>\n",
       "      <td>0</td>\n",
       "      <td>1</td>\n",
       "      <td>0</td>\n",
       "    </tr>\n",
       "    <tr>\n",
       "      <th>3</th>\n",
       "      <td>795000</td>\n",
       "      <td>4</td>\n",
       "      <td>5</td>\n",
       "      <td>County</td>\n",
       "      <td>1</td>\n",
       "      <td>0</td>\n",
       "      <td>0</td>\n",
       "      <td>0</td>\n",
       "      <td>0</td>\n",
       "      <td>1</td>\n",
       "      <td>0</td>\n",
       "    </tr>\n",
       "    <tr>\n",
       "      <th>4</th>\n",
       "      <td>449000</td>\n",
       "      <td>3</td>\n",
       "      <td>3</td>\n",
       "      <td>County</td>\n",
       "      <td>1</td>\n",
       "      <td>0</td>\n",
       "      <td>0</td>\n",
       "      <td>1</td>\n",
       "      <td>0</td>\n",
       "      <td>0</td>\n",
       "      <td>0</td>\n",
       "    </tr>\n",
       "    <tr>\n",
       "      <th>5</th>\n",
       "      <td>545000</td>\n",
       "      <td>4</td>\n",
       "      <td>2</td>\n",
       "      <td>County</td>\n",
       "      <td>1</td>\n",
       "      <td>0</td>\n",
       "      <td>0</td>\n",
       "      <td>0</td>\n",
       "      <td>1</td>\n",
       "      <td>0</td>\n",
       "      <td>0</td>\n",
       "    </tr>\n",
       "  </tbody>\n",
       "</table>\n",
       "</div>"
      ],
      "text/plain": [
       "    Price  Bedrooms  Bathrooms District  House Type_Detached House  \\\n",
       "0  550000         3          2   Dublin                          0   \n",
       "2  775000         4          3   County                          1   \n",
       "3  795000         4          5   County                          1   \n",
       "4  449000         3          3   County                          1   \n",
       "5  545000         4          2   County                          1   \n",
       "\n",
       "   House Type_Terrace House  Price_Group_230000.0-374000.0  \\\n",
       "0                         1                              0   \n",
       "2                         0                              0   \n",
       "3                         0                              0   \n",
       "4                         0                              0   \n",
       "5                         0                              0   \n",
       "\n",
       "   Price_Group_374000.0-518000.0  Price_Group_518000.0-662000.0  \\\n",
       "0                              0                              1   \n",
       "2                              0                              0   \n",
       "3                              0                              0   \n",
       "4                              1                              0   \n",
       "5                              0                              1   \n",
       "\n",
       "   Price_Group_662000.0-806000.0  Price_Group_806000.0-950000.0  \n",
       "0                              0                              0  \n",
       "2                              1                              0  \n",
       "3                              1                              0  \n",
       "4                              0                              0  \n",
       "5                              0                              0  "
      ]
     },
     "execution_count": 72,
     "metadata": {},
     "output_type": "execute_result"
    }
   ],
   "source": [
    "start_value = 230000\n",
    "end_value = 950000\n",
    "num_groups = 5  # Number of groups to create\n",
    "\n",
    "# Calculate the step size to evenly divide the range\n",
    "step_size = (end_value - start_value) / num_groups\n",
    "\n",
    "# Define the range labels for each group\n",
    "range_labels = [f\"{start_value + i * step_size}-{start_value + (i + 1) * step_size}\" for i in range(num_groups)]\n",
    "\n",
    "# Create the groups\n",
    "groups = pd.cut(df_Dublin['Price'], bins=num_groups, labels=False)\n",
    "\n",
    "# Create separate columns for each group using get_dummies and name the columns\n",
    "group_columns = pd.get_dummies(groups, prefix='Price_Group')\n",
    "group_columns.columns = ['Price_Group_' + range_labels[i] for i in range(num_groups)]\n",
    "\n",
    "# Concatenate the group columns with the original DataFrame\n",
    "df_Dublin = pd.concat([df_Dublin, group_columns], axis=1)\n",
    "\n",
    "df_Dublin.head()"
   ]
  },
  {
   "cell_type": "code",
   "execution_count": 73,
   "id": "2bcd27d7",
   "metadata": {},
   "outputs": [],
   "source": [
    "df_Dublin.drop('Price', axis=1, inplace=True)"
   ]
  },
  {
   "cell_type": "code",
   "execution_count": 74,
   "id": "81b0d479",
   "metadata": {},
   "outputs": [
    {
     "name": "stdout",
     "output_type": "stream",
     "text": [
      "<class 'pandas.core.frame.DataFrame'>\n",
      "Int64Index: 430 entries, 0 to 1099\n",
      "Data columns (total 10 columns):\n",
      " #   Column                         Non-Null Count  Dtype \n",
      "---  ------                         --------------  ----- \n",
      " 0   Bedrooms                       430 non-null    int32 \n",
      " 1   Bathrooms                      430 non-null    int32 \n",
      " 2   District                       430 non-null    object\n",
      " 3   House Type_Detached House      430 non-null    uint8 \n",
      " 4   House Type_Terrace House       430 non-null    uint8 \n",
      " 5   Price_Group_230000.0-374000.0  430 non-null    uint8 \n",
      " 6   Price_Group_374000.0-518000.0  430 non-null    uint8 \n",
      " 7   Price_Group_518000.0-662000.0  430 non-null    uint8 \n",
      " 8   Price_Group_662000.0-806000.0  430 non-null    uint8 \n",
      " 9   Price_Group_806000.0-950000.0  430 non-null    uint8 \n",
      "dtypes: int32(2), object(1), uint8(7)\n",
      "memory usage: 13.0+ KB\n"
     ]
    }
   ],
   "source": [
    "df_Dublin.info()"
   ]
  },
  {
   "cell_type": "code",
   "execution_count": 75,
   "id": "53754e40",
   "metadata": {},
   "outputs": [
    {
     "data": {
      "image/png": "[encoded data removed]",
      "text/plain": [
       "<Figure size 2500x2000 with 2 Axes>"
      ]
     },
     "metadata": {},
     "output_type": "display_data"
    }
   ],
   "source": [
    "import numpy as np\n",
    "\n",
    "# plotting heatmap\n",
    "corrmat = df_Dublin.corr()\n",
    "\n",
    "# setting mask for upper triangle\n",
    "mask = np.triu(np.ones_like(corrmat, dtype=bool))\n",
    "\n",
    "# setting hot-cold colour scheme\n",
    "# cmap = sns.diverging_palette(240, 15, as_cmap=True)\n",
    "cmap = 'coolwarm'\n",
    "\n",
    "# plotting the graph\n",
    "f, ax = plt.subplots(figsize=(25, 20))\n",
    "sns.heatmap(corrmat, square = True, mask=mask, cmap=cmap,\n",
    "            vmax=1, vmin=-1, center=0,\n",
    "            annot = True, annot_kws = {'size': 12},\n",
    "            linewidths=.5, cbar_kws={\"shrink\": .5})\n",
    "plt.show()"
   ]
  },
  {
   "cell_type": "markdown",
   "id": "c865b8ab",
   "metadata": {},
   "source": [
    "### a) Logistic Regression"
   ]
  },
  {
   "cell_type": "code",
   "execution_count": 76,
   "id": "6a56ff6e",
   "metadata": {},
   "outputs": [],
   "source": [
    "# importing libraries\n",
    "from sklearn.model_selection import train_test_split\n",
    "from sklearn.preprocessing import OneHotEncoder\n",
    "from sklearn.linear_model import LogisticRegression\n",
    "from sklearn.metrics import accuracy_score, precision_score, recall_score, f1_score, confusion_matrix"
   ]
  },
  {
   "cell_type": "code",
   "execution_count": 77,
   "id": "fb747a47",
   "metadata": {},
   "outputs": [],
   "source": [
    "# separating features and target variable\n",
    "X = df_Dublin.drop('District', axis=1)\n",
    "y = df_Dublin['District']"
   ]
  },
  {
   "cell_type": "code",
   "execution_count": 78,
   "id": "f6a811bd",
   "metadata": {},
   "outputs": [],
   "source": [
    "# splitting the data into training and testing sets\n",
    "X_train, X_test, y_train, y_test = train_test_split(X, y, test_size=0.2, random_state=42)"
   ]
  },
  {
   "cell_type": "code",
   "execution_count": 79,
   "id": "5207c36d",
   "metadata": {},
   "outputs": [
    {
     "name": "stdout",
     "output_type": "stream",
     "text": [
      "Accuracy: 0.7325581395348837\n",
      "Precision: 0.7317073170731707\n",
      "Recall: 0.9836065573770492\n",
      "F1 Score: 0.8391608391608392\n",
      "Confusion Matrix:\n",
      "[[ 3 22]\n",
      " [ 1 60]]\n"
     ]
    }
   ],
   "source": [
    "# creating a logistic regression model\n",
    "model = LogisticRegression()\n",
    "\n",
    "# Train the model\n",
    "model.fit(X_train, y_train)\n",
    "\n",
    "# making predictions on the test data\n",
    "y_pred = model.predict(X_test)\n",
    "\n",
    "# Calculate evaluation metrics\n",
    "accuracy_LR = accuracy_score(y_test, y_pred)\n",
    "precision_LR = precision_score(y_test, y_pred, pos_label='Dublin')\n",
    "recall_LR = recall_score(y_test, y_pred, pos_label='Dublin')\n",
    "f1_LR = f1_score(y_test, y_pred, pos_label='Dublin')\n",
    "\n",
    "# Calculate confusion matrix\n",
    "confusion_mat_LR = confusion_matrix(y_test, y_pred)\n",
    "\n",
    "# Print the evaluation metrics and confusion matrix\n",
    "print(f\"Accuracy: {accuracy_LR}\")\n",
    "print(f\"Precision: {precision_LR}\")\n",
    "print(f\"Recall: {recall_LR}\")\n",
    "print(f\"F1 Score: {f1_LR}\")\n",
    "print(\"Confusion Matrix:\")\n",
    "print(confusion_mat_LR)"
   ]
  },
  {
   "cell_type": "code",
   "execution_count": 80,
   "id": "22e93d0c",
   "metadata": {},
   "outputs": [
    {
     "name": "stdout",
     "output_type": "stream",
     "text": [
      "Before oversampling:  Counter({'Dublin': 225, 'County': 119})\n"
     ]
    }
   ],
   "source": [
    "# checking size of each class\n",
    "from collections import Counter\n",
    "\n",
    "# summarize class distribution\n",
    "print(\"Before oversampling: \",Counter(y_train))"
   ]
  },
  {
   "cell_type": "code",
   "execution_count": 81,
   "id": "ab4843f3",
   "metadata": {},
   "outputs": [
    {
     "name": "stdout",
     "output_type": "stream",
     "text": [
      "After oversampling:  Counter({'County': 225, 'Dublin': 225})\n"
     ]
    }
   ],
   "source": [
    "# oversampling using SMOTE\n",
    "from imblearn.over_sampling import SMOTE\n",
    "\n",
    "SMOTE = SMOTE()\n",
    "\n",
    "# appling the transformation\n",
    "X_train_SMOTE, y_train_SMOTE = SMOTE.fit_resample(X_train, y_train)\n",
    "\n",
    "# summarize class distribution\n",
    "print(\"After oversampling: \",Counter(y_train_SMOTE))"
   ]
  },
  {
   "cell_type": "code",
   "execution_count": 82,
   "id": "9a833c7f",
   "metadata": {},
   "outputs": [
    {
     "name": "stdout",
     "output_type": "stream",
     "text": [
      "Accuracy: 0.5813953488372093\n",
      "Precision: 0.7777777777777778\n",
      "Recall: 0.5737704918032787\n",
      "F1 Score: 0.660377358490566\n",
      "Confusion Matrix:\n",
      "[[15 10]\n",
      " [26 35]]\n"
     ]
    }
   ],
   "source": [
    "# Create a logistic regression model\n",
    "model = LogisticRegression()\n",
    "\n",
    "# Train the model\n",
    "model.fit(X_train_SMOTE, y_train_SMOTE)\n",
    "\n",
    "# Make predictions on the test data\n",
    "y_pred = model.predict(X_test)\n",
    "\n",
    "# Calculate evaluation metrics\n",
    "accuracy_LR2 = accuracy_score(y_test, y_pred)\n",
    "precision_LR2 = precision_score(y_test, y_pred, pos_label='Dublin')\n",
    "recall_LR2 = recall_score(y_test, y_pred, pos_label='Dublin')\n",
    "f1_LR2 = f1_score(y_test, y_pred, pos_label='Dublin')\n",
    "\n",
    "# Calculate confusion matrix\n",
    "confusion_mat_LR2 = confusion_matrix(y_test, y_pred)\n",
    "\n",
    "# Print the evaluation metrics and confusion matrix\n",
    "print(f\"Accuracy: {accuracy_LR2}\")\n",
    "print(f\"Precision: {precision_LR2}\")\n",
    "print(f\"Recall: {recall_LR2}\")\n",
    "print(f\"F1 Score: {f1_LR2}\")\n",
    "print(\"Confusion Matrix:\")\n",
    "print(confusion_mat_LR2)"
   ]
  },
  {
   "cell_type": "code",
   "execution_count": 83,
   "id": "7c7b9bd2",
   "metadata": {},
   "outputs": [
    {
     "name": "stdout",
     "output_type": "stream",
     "text": [
      "Best Hyperparameters:\n",
      "{'C': 0.001}\n",
      "Evaluation Metrics:\n",
      "Accuracy: 0.5813953488372093\n",
      "Precision: 0.7906976744186046\n",
      "Recall: 0.5573770491803278\n",
      "F1 Score: 0.6538461538461539\n",
      "Confusion Matrix:\n",
      "[[16  9]\n",
      " [27 34]]\n"
     ]
    }
   ],
   "source": [
    "# Tunning hyperparameters\n",
    "\n",
    "# Define the parameter grid for grid search\n",
    "param_grid = {'C': [0.001, 0.01, 0.1, 1, 10]}\n",
    "\n",
    "# Perform grid search to find the best hyperparameters\n",
    "grid_search = GridSearchCV(model, param_grid, cv=5)\n",
    "grid_search.fit(X_train_SMOTE, y_train_SMOTE)\n",
    "\n",
    "# Get the best hyperparameters\n",
    "best_params = grid_search.best_params_\n",
    "print(\"Best Hyperparameters:\")\n",
    "print(best_params)\n",
    "\n",
    "# Train the model with the best hyperparameters\n",
    "best_model = LogisticRegression(**best_params)\n",
    "best_model.fit(X_train_SMOTE, y_train_SMOTE)\n",
    "\n",
    "# Make predictions on the test data\n",
    "y_pred = best_model.predict(X_test)\n",
    "\n",
    "# Calculate evaluation metrics\n",
    "accuracy_LR3 = accuracy_score(y_test, y_pred)\n",
    "precision_LR3 = precision_score(y_test, y_pred, pos_label='Dublin')\n",
    "recall_LR3 = recall_score(y_test, y_pred, pos_label='Dublin')\n",
    "f1_LR3 = f1_score(y_test, y_pred, pos_label='Dublin')\n",
    "\n",
    "# Calculate confusion matrix\n",
    "confusion_mat_LR3 = confusion_matrix(y_test, y_pred)\n",
    "\n",
    "# Print the evaluation metrics and confusion matrix\n",
    "print(\"Evaluation Metrics:\")\n",
    "print(f\"Accuracy: {accuracy_LR3}\")\n",
    "print(f\"Precision: {precision_LR3}\")\n",
    "print(f\"Recall: {recall_LR3}\")\n",
    "print(f\"F1 Score: {f1_LR3}\")\n",
    "print(\"Confusion Matrix:\")\n",
    "print(confusion_mat_LR3)"
   ]
  },
  {
   "cell_type": "markdown",
   "id": "67ae1116",
   "metadata": {},
   "source": [
    "# SVC"
   ]
  },
  {
   "cell_type": "code",
   "execution_count": null,
   "id": "c4f1d678",
   "metadata": {},
   "outputs": [],
   "source": [
    "from sklearn.preprocessing import StandardScaler\n",
    "from sklearn.svm import SVC"
   ]
  },
  {
   "cell_type": "code",
   "execution_count": null,
   "id": "b1250044",
   "metadata": {},
   "outputs": [],
   "source": [
    "# Create an SVM classifier with default parameters\n",
    "svm_classifier = SVC()\n",
    "\n",
    "# Train the SVM model\n",
    "svm_classifier.fit(X_train, y_train)\n",
    "\n",
    "# Make predictions on the test set\n",
    "y_pred = svm_classifier.predict(X_test)\n",
    "\n",
    "# Calculate evaluation metrics\n",
    "accuracy_SVC = accuracy_score(y_test, y_pred)\n",
    "precision_SVC = precision_score(y_test, y_pred, pos_label='Dublin')\n",
    "recall_SVC = recall_score(y_test, y_pred, pos_label='Dublin')\n",
    "f1_SVC = f1_score(y_test, y_pred, pos_label='Dublin')\n",
    "\n",
    "# Print the evaluation metrics\n",
    "print(f\"Accuracy: {accuracy_SVC}\")\n",
    "print(f\"Precision: {precision_SVC}\")\n",
    "print(f\"Recall: {recall_SVC}\")\n",
    "print(f\"F1 Score: {f1_SVC}\")\n",
    "\n",
    "# Calculate confusion matrix\n",
    "confusion_mat_SVC = confusion_matrix(y_test, y_pred)\n",
    "print(\"Confusion Matrix:\")\n",
    "print(confusion_mat_SVC)"
   ]
  },
  {
   "cell_type": "code",
   "execution_count": null,
   "id": "715404be",
   "metadata": {},
   "outputs": [],
   "source": [
    "# training the SVM model\n",
    "svm_classifier.fit(X_train_SMOTE, y_train_SMOTE)\n",
    "\n",
    "# making the predictions on the test set\n",
    "y_pred = svm_classifier.predict(X_test)\n",
    "\n",
    "# calculating evaluation metrics\n",
    "accuracy_SVC2 = accuracy_score(y_test, y_pred)\n",
    "precision_SVC2 = precision_score(y_test, y_pred, pos_label='Dublin')\n",
    "recall_SVC2 = recall_score(y_test, y_pred, pos_label='Dublin')\n",
    "f1_SVC2 = f1_score(y_test, y_pred, pos_label='Dublin')\n",
    "\n",
    "# printing the evaluation metrics\n",
    "print(f\"Accuracy: {accuracy_SVC2}\")\n",
    "print(f\"Precision: {precision_SVC2}\")\n",
    "print(f\"Recall: {recall_SVC2}\")\n",
    "print(f\"F1 Score: {f1_SVC2}\")\n",
    "\n",
    "# calculating confusion matrix\n",
    "confusion_mat_SVC2 = confusion_matrix(y_test, y_pred)\n",
    "\n",
    "print(\"Confusion Matrix:\")\n",
    "print(confusion_mat_SVC2)"
   ]
  },
  {
   "cell_type": "code",
   "execution_count": null,
   "id": "85a88340",
   "metadata": {},
   "outputs": [],
   "source": [
    "\n",
    "# Define the hyperparameter grid\n",
    "param_grid = {\n",
    "    'C': [0.1, 1, 10],\n",
    "    'kernel': ['linear', 'rbf'],\n",
    "    'gamma': ['scale', 'auto']\n",
    "}\n",
    "\n",
    "# Create an SVC classifier\n",
    "svm_classifier = SVC()\n",
    "\n",
    "# Perform grid search with cross-validation\n",
    "grid_search = GridSearchCV(estimator=svm_classifier, param_grid=param_grid, cv=5)\n",
    "grid_search.fit(X_train_SMOTE, y_train_SMOTE)\n",
    "\n",
    "# Get the best hyperparameters\n",
    "best_params = grid_search.best_params_\n",
    "print(\"Best Hyperparameters:\", best_params)\n",
    "\n",
    "# Use the best hyperparameters to create the final SVC model\n",
    "best_svm_classifier = SVC(**best_params)\n",
    "best_svm_classifier.fit(X_train_SMOTE, y_train_SMOTE)\n",
    "\n",
    "# Make predictions on the test set\n",
    "y_pred = best_svm_classifier.predict(X_test)\n",
    "\n",
    "# Calculate evaluation metrics\n",
    "accuracy_SVC3 = accuracy_score(y_test, y_pred)\n",
    "precision_SVC3 = precision_score(y_test, y_pred, pos_label='Dublin')\n",
    "recall_SVC3 = recall_score(y_test, y_pred, pos_label='Dublin')\n",
    "f1_SVC3 = f1_score(y_test, y_pred, pos_label='Dublin')\n",
    "\n",
    "# Print the evaluation metrics\n",
    "print(f\"Accuracy: {accuracy_SVC3}\")\n",
    "print(f\"Precision: {precision_SVC3}\")\n",
    "print(f\"Recall: {recall_SVC3}\")\n",
    "print(f\"F1 Score: {f1_SVC3}\")\n",
    "\n",
    "# calculating confusion matrix\n",
    "confusion_mat_SVC3 = confusion_matrix(y_test, y_pred)\n",
    "\n",
    "print(\"Confusion Matrix:\")\n",
    "print(confusion_mat_SVC3)"
   ]
  },
  {
   "cell_type": "code",
   "execution_count": null,
   "id": "a09b0e04",
   "metadata": {},
   "outputs": [],
   "source": []
  }
 ],
 "metadata": {
  "kernelspec": {
   "display_name": "Python 3 (ipykernel)",
   "language": "python",
   "name": "python3"
  },
  "language_info": {
   "codemirror_mode": {
    "name": "ipython",
    "version": 3
   },
   "file_extension": ".py",
   "mimetype": "text/x-python",
   "name": "python",
   "nbconvert_exporter": "python",
   "pygments_lexer": "ipython3",
   "version": "3.9.12"
  }
 },
 "nbformat": 4,
 "nbformat_minor": 5
}
