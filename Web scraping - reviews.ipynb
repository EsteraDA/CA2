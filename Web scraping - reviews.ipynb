{
 "cells": [
  {
   "cell_type": "markdown",
   "id": "e6282cbd",
   "metadata": {},
   "source": [
    "# WEB SCRAPING"
   ]
  },
  {
   "cell_type": "code",
   "execution_count": 1,
   "id": "0b4236ec",
   "metadata": {},
   "outputs": [],
   "source": [
    "import requests\n",
    "from bs4 import BeautifulSoup \n",
    "import pandas as pd\n",
    "from datetime import date\n",
    "import re"
   ]
  },
  {
   "cell_type": "code",
   "execution_count": 2,
   "id": "5e13258f",
   "metadata": {},
   "outputs": [],
   "source": [
    "# Get your own User-Agent from https://httpbin.org/get\n",
    "headers = { \"User-Agent\": \"Mozilla/5.0 (Windows NT 10.0; Win64; x64) AppleWebKit/537.36 (KHTML, like Gecko) Chrome/105.0.0.0 Safari/537.36 Edg/105.0.1343.27\", \"Accept-Encoding\":\"gzip, deflate\", \"Accept\":\"text/html,application/xhtml+xml,application/xml;q=0.9,*/*;q=0.8\", \"DNT\":\"1\",\"Connection\":\"close\", \"Upgrade-Insecure-Requests\":\"1\"}\n",
    "\n",
    "today = date.today() "
   ]
  },
  {
   "cell_type": "code",
   "execution_count": 3,
   "id": "11409718",
   "metadata": {},
   "outputs": [
    {
     "name": "stdout",
     "output_type": "stream",
     "text": [
      "['https://ie.trustpilot.com/users/6022493bb3ed6200192de8d7', 'https://ie.trustpilot.com/users/5a4eb5390000ff000afb0bfd', 'https://ie.trustpilot.com/users/64593d30b352d30013e8a8ae', 'https://ie.trustpilot.com/users/5b77f1604de5666d34a1416c', 'https://ie.trustpilot.com/users/5d77c3a876bf9c22e82d5c0a', 'https://ie.trustpilot.com/users/607f06bf92d1ea001a18799e', 'https://ie.trustpilot.com/users/5ead583746f4d0297ff8bab6', 'https://ie.trustpilot.com/users/606c8dc53aeffa001b407254', 'https://ie.trustpilot.com/users/645a70db3d0add0012854282', 'https://ie.trustpilot.com/users/620bb3190dd4fc0012c240c3', 'https://ie.trustpilot.com/users/5f9d3956f0f73b001ad1d367', 'https://ie.trustpilot.com/users/6405e99be15124001414ab5b', 'https://ie.trustpilot.com/users/64266ca3f46d15001358d58f', 'https://ie.trustpilot.com/users/607572967cb93e001a973947', 'https://ie.trustpilot.com/users/5e999e1cd7ff731bd462f22d', 'https://ie.trustpilot.com/users/5434edf400006400018ee5ca', 'https://ie.trustpilot.com/users/59346b4c0000ff000a9fd38f', 'https://ie.trustpilot.com/users/5cd3fada6e5fb2aafe83d176', 'https://ie.trustpilot.com/users/588098da0000ff000a6e11e9', 'https://ie.trustpilot.com/users/567742830000ff0001f57224', 'https://ie.trustpilot.com/users/556e0afa0000ff0001c34525', 'https://ie.trustpilot.com/users/631265962181d70013dd5e34', 'https://ie.trustpilot.com/users/62852916eefb8300124c4e71', 'https://ie.trustpilot.com/users/63f532abe25d600014ed9fc0', 'https://ie.trustpilot.com/users/602ec05ad37e8b001a2ac3b4', 'https://ie.trustpilot.com/users/5bcf45284de5666d349a6287', 'https://ie.trustpilot.com/users/63e94b3bf1a96d001196ca22', 'https://ie.trustpilot.com/users/639a19ff22d5b70013c5eb35', 'https://ie.trustpilot.com/users/64267479f46d15001358d863', 'https://ie.trustpilot.com/users/60be39b935fa1b00191ccec8', 'https://ie.trustpilot.com/users/6403c19271c57300134aafee', 'https://ie.trustpilot.com/users/63d78de3af8da50012a90ffa', 'https://ie.trustpilot.com/users/6385ea2b2c2e5f0013ec6061', 'https://ie.trustpilot.com/users/5c55f55cb6450552aa05ffef', 'https://ie.trustpilot.com/users/642c3ea547664d0012412b1f', 'https://ie.trustpilot.com/users/620eb3425c78bc00129ec2a4', 'https://ie.trustpilot.com/users/586829c30000ff000a675ce0', 'https://ie.trustpilot.com/users/5e9ce74afa51171da25b7178', 'https://ie.trustpilot.com/users/5c11711f6940f42ef9861eb0', 'https://ie.trustpilot.com/users/63222859e2d6cc00124433ec', 'https://ie.trustpilot.com/users/63139b562181d70013ddfdb1', 'https://ie.trustpilot.com/users/63d22cc7ee10620013561f2c', 'https://ie.trustpilot.com/users/6415d7f9d946dc00133a9754', 'https://ie.trustpilot.com/users/6325901598068b00148a9211', 'https://ie.trustpilot.com/users/634db02e6d28400014f5fd4f', 'https://ie.trustpilot.com/users/634f21aab1a8a800134ec8d9', 'https://ie.trustpilot.com/users/639d88b843d99800122a3aca', 'https://ie.trustpilot.com/users/63bf25530a6f660013c8176b', 'https://ie.trustpilot.com/users/5b72a0e34de5666d34d614a8', 'https://ie.trustpilot.com/users/59c4d1fb0000ff000acc3e3e', 'https://ie.trustpilot.com/users/603d2b5a33bbbc00197146bc', 'https://ie.trustpilot.com/users/5eb96a71cdab04a008b616b9', 'https://ie.trustpilot.com/users/5c111a256b8fe6c8778e9970', 'https://ie.trustpilot.com/users/5d7172ab3e01a4bb23e2180f', 'https://ie.trustpilot.com/users/4f89f7160000640001179a94', 'https://ie.trustpilot.com/users/60715f210a30fd001b072046', 'https://ie.trustpilot.com/users/6324e4730fb67e00138a5217', 'https://ie.trustpilot.com/users/63492a5dfb3cb2001484000b', 'https://ie.trustpilot.com/users/5e72189b4c154f6afd2e9967', 'https://ie.trustpilot.com/users/5db0783c6b87b2a61275a2ee']\n"
     ]
    }
   ],
   "source": [
    "baseurl = 'https://ie.trustpilot.com'\n",
    "\n",
    "productlinks = []\n",
    "for x in range(1,4):\n",
    "    r = requests.get(f'https://ie.trustpilot.com/review/www.murphylarkin.com?page={x}')\n",
    "    soup = BeautifulSoup(r.content, 'html.parser')\n",
    "    productlist = soup.find_all('div', class_='styles_cardWrapper__LcCPA styles_show__HUXRb styles_reviewCard__9HxJJ')\n",
    "\n",
    "    for item in productlist:\n",
    "        link = item.find('a', href=True)\n",
    "        if link:\n",
    "            productlinks.append(baseurl + link['href'])\n",
    "\n",
    "print(productlinks)"
   ]
  },
  {
   "cell_type": "code",
   "execution_count": 4,
   "id": "943c2e18",
   "metadata": {},
   "outputs": [
    {
     "name": "stdout",
     "output_type": "stream",
     "text": [
      "{'Date': datetime.date(2023, 5, 9), 'Name': 'Emmet Gaule', 'Verified': 'Yes', 'No of Reviews': '2', 'Title': 'Great service in the Tramore branch.', 'Review': 'Order placed online. Follow up call with me to confirm everything. Ready for collection on date stated. Very professional service.'}\n",
      "{'Date': datetime.date(2023, 5, 9), 'Name': 'Gavin Tuite', 'Verified': 'Yes', 'No of Reviews': '3', 'Title': 'Good service and delivery however quite…', 'Review': 'Good service and delivery however quite a few defects in the primed timber , chips and gouges and paint overspray . Architrave needed a good sand before installation. Replacement boards were provided free of charge when I provided photos of the damaged boards so I would buy there again'}\n",
      "{'Date': datetime.date(2023, 5, 9), 'Name': \"Stephen O'Neill\", 'Verified': 'Yes', 'No of Reviews': '1', 'Title': 'Very prompt delivery', 'Review': 'Very prompt delivery. Even followed up to make sure parts were delivered and everything was in order'}\n",
      "{'Date': datetime.date(2023, 5, 9), 'Name': 'Gerry', 'Verified': 'Yes', 'No of Reviews': '9', 'Title': 'Product arrived quickly and I even…', 'Review': 'Product arrived quickly and I even received a follow up call to see if everything was satisfactory.Not actually opened the product as yet as waiting for a tradesman but packaging looks ok so hopefully no damage. Will update after opening.'}\n",
      "{'Date': datetime.date(2023, 5, 9), 'Name': 'Lucy', 'Verified': 'Yes', 'No of Reviews': '10', 'Title': 'great experience shopping…', 'Review': 'As always a great experience shopping with The Equine Warehouse. Efficient service & prompt delivery. 5 stars & a big thank you'}\n",
      "{'Date': datetime.date(2023, 5, 9), 'Name': 'AZ', 'Verified': 'Yes', 'No of Reviews': '2', 'Title': 'Second purchase, again amazing!', 'Review': 'Second purchase. Same as the last time- everything by the book. Price is competitive, service is amazing, delivery quick.When I need skirting boards or architraves, Im not even looking anywhere else.'}\n",
      "{'Date': datetime.date(2023, 5, 9), 'Name': 'Margarita', 'Verified': 'Yes', 'No of Reviews': '2', 'Title': 'I highly recommend Murphy Larkin Timber Products', 'Review': 'Nice service, fast delivery. I highly recommend this seller'}\n",
      "{'Date': datetime.date(2023, 5, 9), 'Name': 'Michael Kavanagh', 'Verified': 'Yes', 'No of Reviews': '2', 'Title': 'Very friendly and helpful staff', 'Review': 'Very friendly and helpful staff.Good locationTop class product.'}\n",
      "{'Date': datetime.date(2023, 5, 9), 'Name': 'Peter Cork', 'Verified': 'Yes', 'No of Reviews': '1', 'Title': 'Efficient and nice foolow up call with…', 'Review': 'Efficient and nice foolow up call with advocr'}\n",
      "{'Date': datetime.date(2023, 5, 9), 'Name': 'Mike H', 'Verified': 'Yes', 'No of Reviews': '3', 'Title': 'Issue with the delivery originally but…', 'Review': 'Issue with the delivery originally but chat support (John) resolved it immediately. A company can be best judged on how they handle situations when something  goes wrong and this was handled perfectly.Will continue to use for all supplies going forward.'}\n",
      "{'Date': datetime.date(2023, 5, 9), 'Name': 'JFitz', 'Verified': 'Yes', 'No of Reviews': '2', 'Title': \"5☆ I'm sooooo happy with our panels\", 'Review': \"5☆ I'm sooooo happy with our panels which we put up this afternoon.  They look FAB!!Murphy Larkin really impressed from start to finish between; answering my phone queries before placing my order, quick leadtime, friendly delivery man and follow up emails afterwards.\"}\n",
      "{'Date': datetime.date(2023, 5, 9), 'Name': 'Mairtin Driver', 'Verified': 'No', 'No of Reviews': '1', 'Title': 'Dealing with Murphy Larkin was very striaght forward and convenient', 'Review': 'I work in the trade for the past 20 years and Dealing with Murphy Larkin was a pleasure and very straight forward.  Staff very knowledgeable & helpful. All the WR2 panelling, skirting ,doors architrave products arrived on time and were very high quality . I have no problem recommending them or using them in future projects .'}\n",
      "{'Date': datetime.date(2023, 5, 9), 'Name': 'krisztina mayer', 'Verified': 'Yes', 'No of Reviews': '1', 'Title': 'Fast delivery and i love the way how…', 'Review': 'Fast delivery and i love the way how you look after  your clients,i recieved a phone call after delivery and was asked if i got the item.I appreciate that a human being contacted me not an robot!!!!'}\n",
      "{'Date': datetime.date(2023, 5, 9), 'Name': 'Kevin Savage', 'Verified': 'Yes', 'No of Reviews': '3', 'Title': 'Quick delivery and follow up', 'Review': 'Fast deliveryGreat products'}\n",
      "{'Date': datetime.date(2023, 5, 9), 'Name': 'A novice puppy owner ... bear with me!', 'Verified': 'Yes', 'No of Reviews': '2', 'Title': 'Customer service was absolutely superb', 'Review': 'Customer service was absolutely superb! Emails sent at each & every stage stating that a member of staff would be available for any queries I might have. I also got a follow up call to ask if my order had arrived and that Ibwas happy. I was given tips on how to install, treat and maintain my products. I am delighted with the products, service and overall experience I have had with Murphy Larkin and have already recommended them to people. The delivery of my items was very quick and pain free! I will absolutely be returning as they are without a doubt true professionals, friendly and easy to deal with.'}\n",
      "{'Date': datetime.date(2023, 5, 9), 'Name': 'Sam McKenna', 'Verified': 'Yes', 'No of Reviews': '9', 'Title': 'Brilliant products and service!', 'Review': 'I ordered a few packs of the Deanta wall panelling in January, straigh forward, easy process. Call from ML the next day to advise that I would be receving the order the following Monday, arrived perfect, bang on time, and to top it off a follow up call a few weeks later to make sure everything was ok. I cannot praise ML enough for their level of service and efficiency.'}\n",
      "{'Date': datetime.date(2023, 5, 9), 'Name': 'Aidan Lynch', 'Verified': 'Yes', 'No of Reviews': '17', 'Title': 'Very good coffee', 'Review': 'Very good coffee. Very happy with my order. I would recommend this company.'}\n",
      "{'Date': datetime.date(2023, 5, 9), 'Name': 'Vivion Gough', 'Verified': 'Yes', 'No of Reviews': '5', 'Title': 'Architrave for a DIY project', 'Review': \"Very impressed with Murphy Larkin. Had a DIY project in mind and couldn't get the timber I needed locally at the size I wanted. Found Murphy Larkin online and decided to take a chance at the price offered. Couldn't believe how quickly the items arrived (very well packed) and exactly what I wanted and in perfect condition. Murphy Larkin will be my 'go to' for all my future projects.\"}\n",
      "{'Date': datetime.date(2023, 5, 9), 'Name': 'Sinead O', 'Verified': 'Yes', 'No of Reviews': '2', 'Title': 'Everyone was so great to deal with', 'Review': 'Everyone was so great to deal with , really friendly and helpful. Communication was brilliant and I was delighed with the final product.'}\n",
      "{'Date': datetime.date(2023, 5, 9), 'Name': 'Claire', 'Verified': 'Yes', 'No of Reviews': '3', 'Title': '100% recommend', 'Review': 'Great service, great customer serviceFast delivery and reasonable price'}\n",
      "{'Date': datetime.date(2023, 5, 9), 'Name': 'BRIAN CHADWICK', 'Verified': 'Yes', 'No of Reviews': '5', 'Title': 'Great range of products, good prices', 'Review': 'Great range of products so I could get exactly what I wanted (sliding door rail) at a very good price. Ordering was easy and it was delivered within 2 days.    Product was as described.'}\n",
      "{'Date': datetime.date(2023, 5, 9), 'Name': 'Michael McAuliffe', 'Verified': 'Yes', 'No of Reviews': '1', 'Title': 'Fantastic products and service!', 'Review': 'A truly professional service where nothing was too difficult, great advice given in terms of product choice and best value for money. They also made sure all items were delivered in a timely manner. Highly recommend Murphy Larkin, great team of people and superb service!'}\n",
      "{'Date': datetime.date(2023, 5, 9), 'Name': 'Kesen', 'Verified': 'Yes', 'No of Reviews': '2', 'Title': 'Great quick and reliable service and products', 'Review': 'Order was shipped in time and in good condition. Packaged perfectly and even received a follow up call to make sure all was in order. Will definitely buy from them again and highly recommend'}\n",
      "{'Date': datetime.date(2023, 5, 9), 'Name': 'Paul A Cunningham', 'Verified': 'Yes', 'No of Reviews': '1', 'Title': 'First class service as usual', 'Review': 'Easy to purchase, best prices around, delivery very quick and even got phone calls to confirm delivery times. Used twice now and would highly recommend.'}\n",
      "{'Date': datetime.date(2023, 5, 9), 'Name': 'SN - Dublin', 'Verified': 'No', 'No of Reviews': '3', 'Title': 'Prompt Delivery and Great Customer Service', 'Review': 'Ordered Underlay for laminate flooring. Less expensive than competitors. When working on a build all savings count. Was delivered promptly without issue. Ordered Sunday night and arrived first thing Tuesday morning. Murphy Larkin followed up this afternoon to ensure I had received the underlay ok and was happy with the product. Satisfied customer 🙋🏼\\u200d♀️. Great experience 5 stars ⭐️'}\n",
      "{'Date': datetime.date(2023, 5, 9), 'Name': 'N ONEILL', 'Verified': 'Yes', 'No of Reviews': '2', 'Title': 'Caring staff', 'Review': 'Caring staff, Easy ordering, promt delivery.'}\n",
      "{'Date': datetime.date(2023, 5, 9), 'Name': 'Brendan  Barry', 'Verified': 'Yes', 'No of Reviews': '1', 'Title': 'Excellent service from Murphy Larkin.  Received product within 2 days of Roding online.   Product arrived heavily warped for protecting and was in perfect condition.  Highly Recommend Murphy Larkin.', 'Review': 'Hassle free online ordering.  Product arrived promptly in perfect condition.  Follow up call to ensure the product was in order.  Very reasonable price for product purchased.'}\n",
      "{'Date': datetime.date(2023, 5, 9), 'Name': 'Paschal Buckley', 'Verified': 'No', 'No of Reviews': '1', 'Title': 'Ordered Door handles on Monday evening', 'Review': 'Ordered Door handles on Monday evening, process very simple received confirmation straight away. Prompt delivery as received order this morning (Wednesday) and a phone call from the store to check if our order was received and everything OK. Great Customer Service!'}\n",
      "{'Date': datetime.date(2023, 5, 9), 'Name': 'Justin Kavanagh', 'Verified': 'Yes', 'No of Reviews': '1', 'Title': 'Very professional and friendly staff', 'Review': 'Very professional and friendly staff, would highly recommend.My order was processed and delivered very quickly.'}\n",
      "{'Date': datetime.date(2023, 5, 9), 'Name': 'Conor Doyle', 'Verified': 'Yes', 'No of Reviews': '2', 'Title': 'I had a question about the product I…', 'Review': 'I had a question about the product I was interested in and it was answered very promptly.Once I got the answer to my question I ordered and received the order less than 3 days later…..great delivery times.The product itself….you can absolutely feel the quality of the handle as soon as you put your hand on it.'}\n",
      "{'Date': datetime.date(2023, 5, 9), 'Name': 'Sabrina  Boland', 'Verified': 'Yes', 'No of Reviews': '2', 'Title': 'Great service and delivery', 'Review': 'Great service and deliveryProducts arrived the next day. Great qualityHighly recommend'}\n",
      "{'Date': datetime.date(2023, 5, 9), 'Name': 'Paul McCarthy', 'Verified': 'Yes', 'No of Reviews': '1', 'Title': 'Great service', 'Review': 'Delighted to order this on a Saturday and receive delivery on the following Tuesday.Got a follow up call from Murphy Larkin to ensure it was delivered and all was ok.Customer service like this is not common anymore, I was impressed'}\n",
      "{'Date': datetime.date(2023, 5, 9), 'Name': 'Tommy Curtin', 'Verified': 'Yes', 'No of Reviews': '1', 'Title': 'Ordered our panels on a Sunday…', 'Review': \"Ordered our panels on a Sunday afternoon and received them on Wednesday. Perfect product couldn't be happier with how well it looked. I made one call to the office and the woman I was speaking with was so helpful.Down to the delivery of the product got a call from the drive the day of delivery and told me it would be 12:50 he would be at the house and was there down to the second.The follow up call to see if I was happy with the panels was unexpected, not many companies out there now making those calls after you have paid for something.Definitely a company you would recommend to anyone.\"}\n",
      "{'Date': datetime.date(2023, 5, 9), 'Name': 'Cian', 'Verified': 'Yes', 'No of Reviews': '12', 'Title': 'Great customer service as always.', 'Review': 'Great customer service as always.Would highly recommend'}\n",
      "{'Date': datetime.date(2023, 5, 9), 'Name': 'Leonie Stewart', 'Verified': 'Yes', 'No of Reviews': '1', 'Title': 'Excellent customer service', 'Review': 'Excellent customer service, follow up, extremely fast delivery of goods and after care service also excellent. Fully recommend Murphy Larkin to anyone looking for a quality product and friendly and professional staff.'}\n",
      "{'Date': datetime.date(2023, 5, 9), 'Name': 'Lucy Sharkey', 'Verified': 'Yes', 'No of Reviews': '3', 'Title': 'Efficient order and delivery process', 'Review': 'Efficient order and delivery process. Jumper quality, fit, and colour are excellent. Prices are high, could only afford once discounted unfortunately.'}\n",
      "{'Date': datetime.date(2023, 5, 9), 'Name': 'Aine O Connor', 'Verified': 'Yes', 'No of Reviews': '6', 'Title': 'Itchyfingers delivered an amazing website for Timbercraft', 'Review': \"Amanda of Itchyfingers has just completed our website. Our new websites was far from straightforward and had a lot of historical content that needed to be tidied up and presented in a very user froendly way.Amanda's advice was invaluable regarding the design, approach, content and functionality of our new website. I found it very easy and enjoyable to work with Amanda.Thank you Amamda.\"}\n",
      "{'Date': datetime.date(2023, 5, 9), 'Name': 'AH', 'Verified': 'Yes', 'No of Reviews': '2', 'Title': 'Excellent service from start to finish', 'Review': 'Excellent service from start to finish. Ordered items, got confirmation email. Got phone call next day to say goods would be shipped and I’d have them by 4pm the following day. The day of arrival, the driver rang to let me know how far away he was. Then once I received delivery, received another phone call to see if I was happy with the product. Now that’s what you call service. Couldn’t recommend this company enough.'}\n",
      "{'Date': datetime.date(2023, 5, 9), 'Name': 'Julie Ward', 'Verified': 'Yes', 'No of Reviews': '5', 'Title': 'Great company', 'Review': 'Very easy to place an order and delivery was excellent. All done efficiently'}\n",
      "{'Date': datetime.date(2023, 5, 9), 'Name': 'Brian Corcoran', 'Verified': 'Yes', 'No of Reviews': '2', 'Title': 'Easy order process and delivery was…', 'Review': 'Easy order process and delivery was prompt and confirmation mail on same sent on.Sales Rep followed up with a call as well.Great work'}\n",
      "{'Date': datetime.date(2023, 5, 9), 'Name': 'Pauline', 'Verified': 'Yes', 'No of Reviews': '3', 'Title': 'Helpful staff', 'Review': 'I was in the Carraig Donn store in Athlone where I met a male shop assistant who was so very helpful and polite that even though the items I wanted to purchase were not in stock I went home and ordered them online.'}\n",
      "{'Date': datetime.date(2023, 5, 9), 'Name': 'David Keating', 'Verified': 'Yes', 'No of Reviews': '1', 'Title': 'delivered on time', 'Review': 'delivered on time, good quality product, follow up service to ensure everting was ok. very rare in todays world to get good engaging customer service.'}\n",
      "{'Date': datetime.date(2023, 5, 9), 'Name': 'Sarah Moss', 'Verified': 'Yes', 'No of Reviews': '1', 'Title': 'Brilliant service', 'Review': 'Brilliant service, product delivered within 4 days of ordering and a follow up telephone call to check everything was OK!'}\n",
      "{'Date': datetime.date(2023, 5, 9), 'Name': 'Rush', 'Verified': 'Yes', 'No of Reviews': '1', 'Title': 'Very good customer service', 'Review': 'Very good customer service. They checked the status of the order and kept me informed as when the product would be delivered.The product arrived in perfect condition.  Nothing was missing.I also appreciated the lack of extra packing, just one clear plastic to keep the box sealed and the ends of the box reinforced.'}\n",
      "{'Date': datetime.date(2023, 5, 9), 'Name': 'Virginia from Monaghan', 'Verified': 'Yes', 'No of Reviews': '1', 'Title': 'Excellent service my package arrived…', 'Review': 'Excellent service my package arrived 48hours after my order very keenly priced and the product was the one I wanted. A follow up phone call from the company to ensure I was happy was a really nice touch I would use them again well done Murphy Larkin'}\n",
      "{'Date': datetime.date(2023, 5, 9), 'Name': 'Kate', 'Verified': 'Yes', 'No of Reviews': '1', 'Title': 'Wooden slatted panels', 'Review': 'Very happy with the product and the final look of it on the wall. Fairly easy to install and cut to a desired length. Simple way of order through the website. Very good communication with delivery driver also very punctual. Highly recommended.'}\n",
      "{'Date': datetime.date(2023, 5, 9), 'Name': 'Áine Moran', 'Verified': 'Yes', 'No of Reviews': '3', 'Title': 'Excellent service', 'Review': 'Excellent service, delivered promptly with phone call to check goods had been received. Thank you.'}\n",
      "{'Date': datetime.date(2023, 5, 9), 'Name': 'Stewart', 'Verified': 'Yes', 'No of Reviews': '1', 'Title': 'Excellent Service', 'Review': 'Great, easy service from ordering to delivery. After ordering they called to make sure I had everything I needed. Delivery was very quick (next day). When I got home I got a call to make sure I had taken possession of the package. Would highly recommend!'}\n",
      "{'Date': datetime.date(2023, 5, 9), 'Name': 'Colin', 'Verified': 'Yes', 'No of Reviews': '4', 'Title': 'A very user friendly website and professional company', 'Review': 'A very user friendly website. Delivery two days from date of order. I got a call the day before to let me know delivery on the way and a call from the driver the next morning to give a time of delivery; so I could be there. A”Received a very unexpected follow up call a few days later to check that we got everything and were happy. All together a thoroughly professional company and a pleasure to deal with. I will definitely be back for more.Well done to all.'}\n",
      "{'Date': datetime.date(2023, 5, 9), 'Name': 'Frank Humphreys', 'Verified': 'Yes', 'No of Reviews': '2', 'Title': 'Good response time on shipping order', 'Review': 'Good response time on shipping order. Great customer  support  on follow up query on product.Shipping time was 3 days but this was currier related.'}\n",
      "{'Date': datetime.date(2023, 5, 9), 'Name': 'Debbie Duffy', 'Verified': 'Yes', 'No of Reviews': '3', 'Title': 'Excellent service', 'Review': 'Excellent service. Door knobs and locking systems came within a couple of days and I also received a follow up phone call checking that all was delivered and that the items were to my satisfaction. Would certainly shop with MurphyLarkin again.'}\n",
      "{'Date': datetime.date(2023, 5, 9), 'Name': 'Colette Murphy', 'Verified': 'Yes', 'No of Reviews': '4', 'Title': 'Ordered a attic stairs,queried on line…', 'Review': 'Ordered a attic stairs,queried on line about size and got a very prompt response ,delivery very quick,and I got a call later that day to make sure I was happy with everything,I would highly recommend Murphy larkin.'}\n",
      "{'Date': datetime.date(2023, 5, 9), 'Name': 'customer', 'Verified': 'Yes', 'No of Reviews': '7', 'Title': 'This company is amazing', 'Review': 'This company is amazing!  The service attitude of the staff is very friendly!  Purchased yesterday morning received this morning very fast thank you jeff'}\n",
      "{'Date': datetime.date(2023, 5, 9), 'Name': 'L Fitzpatrick', 'Verified': 'Yes', 'No of Reviews': '2', 'Title': 'FFE: FAST, FRIENDLY, EFFICIENT!!!', 'Review': 'Placed my order online late Thursday night, I got a phone call Friday to say it will be delivered on Monday. I got a phone call Monday to confirm delivery for that day. The driver also rang me beforehand so not waiting in all day. Really efficient, fast and super friendly service. Would highly recommend these guys.'}\n",
      "{'Date': datetime.date(2023, 5, 9), 'Name': 'Simon Butler', 'Verified': 'Yes', 'No of Reviews': '9', 'Title': 'Ordering made easy.', 'Review': \"The Murphy Larkin website was so easy to navigate and order the doors I was after. Jeff from the Tramore branch was very helpful and responded quickly to the couple of questions I had. Delivery of handles that I ordered was next day and I was able to collect the doors myself from a collection centre in Clondalkin.So, from ordering all the components I was able to have the doors installed in a matter of a few days. And the result is better than I'd hoped - The doors and handles are top quality. And the prices were  pretty reasonable too.Overall a very good experience with this company. And I will definitely buy from them again should the need arise!!\"}\n",
      "{'Date': datetime.date(2023, 5, 9), 'Name': 'John Crowley', 'Verified': 'Yes', 'No of Reviews': '2', 'Title': 'Excellent quality and value', 'Review': 'Really top quality product (black glass door) and best value out there.Excellent communication from start to finish.Highly recommended'}\n",
      "{'Date': datetime.date(2023, 5, 9), 'Name': 'James Dunne', 'Verified': 'Yes', 'No of Reviews': '1', 'Title': 'Insulated dormer attic door', 'Review': 'Great product and great service from Murphy Larkin Timber products. The insulated dormer attic door is the perfect solution for people looking for easy access to the extra storage space in dormer houses.'}\n",
      "{'Date': datetime.date(2023, 5, 9), 'Name': \"O'Meara  Aspect Design\", 'Verified': 'Yes', 'No of Reviews': '1', 'Title': 'Very Happy', 'Review': 'Murphy Larkin Timber Products are a very good company to deal with, Very quick and responsive and gave all the information necessary to provide the product we were looking for urgently as same day collection.Very happy and will defiantly will used this company again.'}\n",
      "{'Date': datetime.date(2023, 5, 9), 'Name': 'Marie', 'Verified': 'Yes', 'No of Reviews': '9', 'Title': 'Lovely company to deal with', 'Review': 'Lovely company to deal with. Very happy with our doors. Great customer service too.'}\n",
      "{'Date': datetime.date(2023, 5, 9), 'Name': 'DB', 'Verified': 'Yes', 'No of Reviews': '7', 'Title': 'Very quick delivery and very happy with…', 'Review': 'Very quick delivery and very happy with items'}\n"
     ]
    }
   ],
   "source": [
    "Reviews = []\n",
    "for link in productlinks:\n",
    "    r = requests.get(link, headers=headers)\n",
    "    soup = BeautifulSoup(r.content, 'lxml')\n",
    "    \n",
    "    # finding line where is the 'name' of product, removing unwanted characters behind name\n",
    "    na = soup.find(\"span\", class_=\"typography_heading-xxs__QKBS8 typography_appearance-default__AAY17\")\n",
    "    # Extract the name\n",
    "    name = na.get_text(strip=True)\n",
    "    \n",
    "    no = soup.find(\"span\", class_=\"typography_body-m__xgxZ_ typography_appearance-subtle__8_H2l\")\n",
    "    Number = no.get_text(strip=True)\n",
    "    Number2 = Number.replace(\"reviews\", \"\").replace(\"review\", \"\")\n",
    "\n",
    "    if soup.find(text='Verified'):\n",
    "        verified = 'Yes'\n",
    "    else:\n",
    "        verified = 'No'\n",
    "        \n",
    "    t = soup.find('h2', class_='typography_heading-s__f7029 typography_appearance-default__AAY17')\n",
    "    title = t.get_text(strip=True)\n",
    "    \n",
    "    re = soup.find('p', class_ = 'typography_body-l__KUYFJ typography_appearance-default__AAY17 typography_color-black__5LYEn')\n",
    "    Review = re.get_text(strip=True)\n",
    "    \n",
    "\n",
    "    # creating a dictionary to save data\n",
    "    rev = {\n",
    "        'Date': today,\n",
    "        'Name' : name,\n",
    "        'Verified':verified,\n",
    "        'No of Reviews':Number2,\n",
    "        'Title': title,\n",
    "        'Review':Review}\n",
    "    Reviews.append(rev)\n",
    "    print(rev)"
   ]
  },
  {
   "cell_type": "code",
   "execution_count": 5,
   "id": "410b20ca",
   "metadata": {},
   "outputs": [
    {
     "name": "stdout",
     "output_type": "stream",
     "text": [
      "         Date              Name Verified No of Reviews  \\\n",
      "0  2023-05-09       Emmet Gaule      Yes             2   \n",
      "1  2023-05-09       Gavin Tuite      Yes             3   \n",
      "2  2023-05-09   Stephen O'Neill      Yes             1   \n",
      "3  2023-05-09             Gerry      Yes             9   \n",
      "4  2023-05-09              Lucy      Yes            10   \n",
      "5  2023-05-09                AZ      Yes             2   \n",
      "6  2023-05-09         Margarita      Yes             2   \n",
      "7  2023-05-09  Michael Kavanagh      Yes             2   \n",
      "8  2023-05-09        Peter Cork      Yes             1   \n",
      "9  2023-05-09            Mike H      Yes             3   \n",
      "\n",
      "                                              Title  \\\n",
      "0              Great service in the Tramore branch.   \n",
      "1          Good service and delivery however quite…   \n",
      "2                              Very prompt delivery   \n",
      "3               Product arrived quickly and I even…   \n",
      "4                        great experience shopping…   \n",
      "5                   Second purchase, again amazing!   \n",
      "6  I highly recommend Murphy Larkin Timber Products   \n",
      "7                   Very friendly and helpful staff   \n",
      "8           Efficient and nice foolow up call with…   \n",
      "9           Issue with the delivery originally but…   \n",
      "\n",
      "                                              Review  \n",
      "0  Order placed online. Follow up call with me to...  \n",
      "1  Good service and delivery however quite a few ...  \n",
      "2  Very prompt delivery. Even followed up to make...  \n",
      "3  Product arrived quickly and I even received a ...  \n",
      "4  As always a great experience shopping with The...  \n",
      "5  Second purchase. Same as the last time- everyt...  \n",
      "6  Nice service, fast delivery. I highly recommen...  \n",
      "7  Very friendly and helpful staff.Good locationT...  \n",
      "8      Efficient and nice foolow up call with advocr  \n",
      "9  Issue with the delivery originally but chat su...  \n"
     ]
    }
   ],
   "source": [
    "# transforming dictionary into DF\n",
    "df = pd.DataFrame(Reviews)\n",
    "print(df.head(10))"
   ]
  },
  {
   "cell_type": "code",
   "execution_count": 6,
   "id": "ad7df6fd",
   "metadata": {},
   "outputs": [
    {
     "name": "stdout",
     "output_type": "stream",
     "text": [
      "<class 'pandas.core.frame.DataFrame'>\n",
      "RangeIndex: 60 entries, 0 to 59\n",
      "Data columns (total 6 columns):\n",
      " #   Column         Non-Null Count  Dtype \n",
      "---  ------         --------------  ----- \n",
      " 0   Date           60 non-null     object\n",
      " 1   Name           60 non-null     object\n",
      " 2   Verified       60 non-null     object\n",
      " 3   No of Reviews  60 non-null     object\n",
      " 4   Title          60 non-null     object\n",
      " 5   Review         60 non-null     object\n",
      "dtypes: object(6)\n",
      "memory usage: 2.9+ KB\n"
     ]
    }
   ],
   "source": [
    "df.info()"
   ]
  },
  {
   "cell_type": "code",
   "execution_count": 7,
   "id": "f9e20990",
   "metadata": {},
   "outputs": [
    {
     "data": {
      "text/html": [
       "<div>\n",
       "<style scoped>\n",
       "    .dataframe tbody tr th:only-of-type {\n",
       "        vertical-align: middle;\n",
       "    }\n",
       "\n",
       "    .dataframe tbody tr th {\n",
       "        vertical-align: top;\n",
       "    }\n",
       "\n",
       "    .dataframe thead th {\n",
       "        text-align: right;\n",
       "    }\n",
       "</style>\n",
       "<table border=\"1\" class=\"dataframe\">\n",
       "  <thead>\n",
       "    <tr style=\"text-align: right;\">\n",
       "      <th></th>\n",
       "      <th>Date</th>\n",
       "      <th>Name</th>\n",
       "      <th>Verified</th>\n",
       "      <th>No of Reviews</th>\n",
       "      <th>Title</th>\n",
       "      <th>Review</th>\n",
       "    </tr>\n",
       "  </thead>\n",
       "  <tbody>\n",
       "    <tr>\n",
       "      <th>0</th>\n",
       "      <td>2023-05-09</td>\n",
       "      <td>Emmet Gaule</td>\n",
       "      <td>Yes</td>\n",
       "      <td>2</td>\n",
       "      <td>Great service in the Tramore branch.</td>\n",
       "      <td>Order placed online. Follow up call with me to...</td>\n",
       "    </tr>\n",
       "    <tr>\n",
       "      <th>1</th>\n",
       "      <td>2023-05-09</td>\n",
       "      <td>Gavin Tuite</td>\n",
       "      <td>Yes</td>\n",
       "      <td>3</td>\n",
       "      <td>Good service and delivery however quite…</td>\n",
       "      <td>Good service and delivery however quite a few ...</td>\n",
       "    </tr>\n",
       "    <tr>\n",
       "      <th>2</th>\n",
       "      <td>2023-05-09</td>\n",
       "      <td>Stephen O'Neill</td>\n",
       "      <td>Yes</td>\n",
       "      <td>1</td>\n",
       "      <td>Very prompt delivery</td>\n",
       "      <td>Very prompt delivery. Even followed up to make...</td>\n",
       "    </tr>\n",
       "    <tr>\n",
       "      <th>3</th>\n",
       "      <td>2023-05-09</td>\n",
       "      <td>Gerry</td>\n",
       "      <td>Yes</td>\n",
       "      <td>9</td>\n",
       "      <td>Product arrived quickly and I even…</td>\n",
       "      <td>Product arrived quickly and I even received a ...</td>\n",
       "    </tr>\n",
       "    <tr>\n",
       "      <th>4</th>\n",
       "      <td>2023-05-09</td>\n",
       "      <td>Lucy</td>\n",
       "      <td>Yes</td>\n",
       "      <td>10</td>\n",
       "      <td>great experience shopping…</td>\n",
       "      <td>As always a great experience shopping with The...</td>\n",
       "    </tr>\n",
       "  </tbody>\n",
       "</table>\n",
       "</div>"
      ],
      "text/plain": [
       "         Date             Name Verified No of Reviews  \\\n",
       "0  2023-05-09      Emmet Gaule      Yes             2   \n",
       "1  2023-05-09      Gavin Tuite      Yes             3   \n",
       "2  2023-05-09  Stephen O'Neill      Yes             1   \n",
       "3  2023-05-09            Gerry      Yes             9   \n",
       "4  2023-05-09             Lucy      Yes            10   \n",
       "\n",
       "                                      Title  \\\n",
       "0      Great service in the Tramore branch.   \n",
       "1  Good service and delivery however quite…   \n",
       "2                      Very prompt delivery   \n",
       "3       Product arrived quickly and I even…   \n",
       "4                great experience shopping…   \n",
       "\n",
       "                                              Review  \n",
       "0  Order placed online. Follow up call with me to...  \n",
       "1  Good service and delivery however quite a few ...  \n",
       "2  Very prompt delivery. Even followed up to make...  \n",
       "3  Product arrived quickly and I even received a ...  \n",
       "4  As always a great experience shopping with The...  "
      ]
     },
     "execution_count": 7,
     "metadata": {},
     "output_type": "execute_result"
    }
   ],
   "source": [
    "df.head()"
   ]
  },
  {
   "cell_type": "code",
   "execution_count": null,
   "id": "63ce9d39",
   "metadata": {},
   "outputs": [],
   "source": []
  },
  {
   "cell_type": "code",
   "execution_count": null,
   "id": "960b945f",
   "metadata": {},
   "outputs": [],
   "source": []
  },
  {
   "cell_type": "code",
   "execution_count": null,
   "id": "64427ac0",
   "metadata": {},
   "outputs": [],
   "source": []
  },
  {
   "cell_type": "code",
   "execution_count": null,
   "id": "e19a5af9",
   "metadata": {},
   "outputs": [],
   "source": []
  }
 ],
 "metadata": {
  "kernelspec": {
   "display_name": "Python 3 (ipykernel)",
   "language": "python",
   "name": "python3"
  },
  "language_info": {
   "codemirror_mode": {
    "name": "ipython",
    "version": 3
   },
   "file_extension": ".py",
   "mimetype": "text/x-python",
   "name": "python",
   "nbconvert_exporter": "python",
   "pygments_lexer": "ipython3",
   "version": "3.9.12"
  }
 },
 "nbformat": 4,
 "nbformat_minor": 5
}
